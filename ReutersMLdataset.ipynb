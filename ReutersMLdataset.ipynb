{
 "cells": [
  {
   "cell_type": "code",
   "execution_count": 1,
   "id": "205bc279",
   "metadata": {},
   "outputs": [],
   "source": [
    "from keras.datasets import reuters\n",
    "\n",
    "(train_data, train_labels), (test_data, test_labels) = reuters.load_data(\n",
    "    num_words=10000)"
   ]
  },
  {
   "cell_type": "code",
   "execution_count": 2,
   "id": "ccc3dd5f",
   "metadata": {},
   "outputs": [
    {
     "data": {
      "text/plain": [
       "8982"
      ]
     },
     "execution_count": 2,
     "metadata": {},
     "output_type": "execute_result"
    }
   ],
   "source": [
    "len(train_data)"
   ]
  },
  {
   "cell_type": "code",
   "execution_count": 3,
   "id": "2ce0d110",
   "metadata": {},
   "outputs": [
    {
     "data": {
      "text/plain": [
       "2246"
      ]
     },
     "execution_count": 3,
     "metadata": {},
     "output_type": "execute_result"
    }
   ],
   "source": [
    "len(test_data)"
   ]
  },
  {
   "cell_type": "code",
   "execution_count": 4,
   "id": "92e4d46d",
   "metadata": {},
   "outputs": [
    {
     "data": {
      "text/plain": [
       "[1,\n",
       " 245,\n",
       " 273,\n",
       " 207,\n",
       " 156,\n",
       " 53,\n",
       " 74,\n",
       " 160,\n",
       " 26,\n",
       " 14,\n",
       " 46,\n",
       " 296,\n",
       " 26,\n",
       " 39,\n",
       " 74,\n",
       " 2979,\n",
       " 3554,\n",
       " 14,\n",
       " 46,\n",
       " 4689,\n",
       " 4329,\n",
       " 86,\n",
       " 61,\n",
       " 3499,\n",
       " 4795,\n",
       " 14,\n",
       " 61,\n",
       " 451,\n",
       " 4329,\n",
       " 17,\n",
       " 12]"
      ]
     },
     "execution_count": 4,
     "metadata": {},
     "output_type": "execute_result"
    }
   ],
   "source": [
    "train_data[10]"
   ]
  },
  {
   "cell_type": "code",
   "execution_count": 5,
   "id": "92605737",
   "metadata": {},
   "outputs": [],
   "source": [
    "import numpy as np\n",
    "\n",
    "def vectorize_sequences(sequences, dimension=10000):\n",
    "    results = np.zeros((len(sequences), dimension))\n",
    "    for i, sequence in enumerate(sequences):\n",
    "        results[i, sequence] = 1.\n",
    "    return results\n",
    "\n",
    "x_train = vectorize_sequences(train_data)\n",
    "x_test = vectorize_sequences(test_data)"
   ]
  },
  {
   "cell_type": "code",
   "execution_count": 6,
   "id": "1485e481",
   "metadata": {},
   "outputs": [],
   "source": [
    "def to_one_hot(labels, dimension=46):\n",
    "    results = np.zeros((len(labels), dimension))\n",
    "    for i, label in enumerate(labels):\n",
    "        results[i, label] = 1.\n",
    "    return results\n",
    "\n",
    "one_hot_train_labels = to_one_hot(train_labels)\n",
    "one_hot_test_labels = to_one_hot(test_labels)"
   ]
  },
  {
   "cell_type": "code",
   "execution_count": 7,
   "id": "d2a929c4",
   "metadata": {},
   "outputs": [],
   "source": [
    "from keras.utils.np_utils import to_categorical\n",
    "\n",
    "one_hot_train_labels = to_categorical(train_labels)\n",
    "one_hot_test_labels = to_categorical(test_labels)"
   ]
  },
  {
   "cell_type": "code",
   "execution_count": 8,
   "id": "29ef495e",
   "metadata": {},
   "outputs": [],
   "source": [
    "\n",
    "from keras import models\n",
    "from keras import layers\n",
    "\n",
    "model = models.Sequential()\n",
    "model.add(layers.Dense(64, activation='relu', input_shape=(10000,)))\n",
    "model.add(layers.Dense(64, activation='relu'))\n",
    "model.add(layers.Dense(46, activation='softmax'))"
   ]
  },
  {
   "cell_type": "code",
   "execution_count": 9,
   "id": "82193308",
   "metadata": {},
   "outputs": [],
   "source": [
    "model.compile(optimizer='rmsprop',\n",
    "              loss='categorical_crossentropy',\n",
    "              metrics=['accuracy'])"
   ]
  },
  {
   "cell_type": "code",
   "execution_count": 10,
   "id": "9c67b41c",
   "metadata": {},
   "outputs": [],
   "source": [
    "x_val = x_train[:1000]\n",
    "partial_x_train = x_train[1000:]\n",
    "\n",
    "y_val = one_hot_train_labels[:1000]\n",
    "partial_y_train = one_hot_train_labels[1000:]"
   ]
  },
  {
   "cell_type": "code",
   "execution_count": 11,
   "id": "d41e9b5b",
   "metadata": {},
   "outputs": [
    {
     "name": "stdout",
     "output_type": "stream",
     "text": [
      "Epoch 1/20\n",
      "16/16 [==============================] - 1s 28ms/step - loss: 2.5938 - accuracy: 0.5238 - val_loss: 1.7798 - val_accuracy: 0.6380\n",
      "Epoch 2/20\n",
      "16/16 [==============================] - 0s 19ms/step - loss: 1.4581 - accuracy: 0.6981 - val_loss: 1.3598 - val_accuracy: 0.7150\n",
      "Epoch 3/20\n",
      "16/16 [==============================] - 0s 22ms/step - loss: 1.0870 - accuracy: 0.7640 - val_loss: 1.1674 - val_accuracy: 0.7420\n",
      "Epoch 4/20\n",
      "16/16 [==============================] - 0s 20ms/step - loss: 0.8612 - accuracy: 0.8156 - val_loss: 1.0552 - val_accuracy: 0.7760\n",
      "Epoch 5/20\n",
      "16/16 [==============================] - 0s 21ms/step - loss: 0.6902 - accuracy: 0.8500 - val_loss: 0.9781 - val_accuracy: 0.7940\n",
      "Epoch 6/20\n",
      "16/16 [==============================] - 0s 22ms/step - loss: 0.5507 - accuracy: 0.8855 - val_loss: 0.9231 - val_accuracy: 0.8030\n",
      "Epoch 7/20\n",
      "16/16 [==============================] - 0s 20ms/step - loss: 0.4458 - accuracy: 0.9074 - val_loss: 0.9035 - val_accuracy: 0.8090\n",
      "Epoch 8/20\n",
      "16/16 [==============================] - 0s 17ms/step - loss: 0.3602 - accuracy: 0.9241 - val_loss: 0.9065 - val_accuracy: 0.8130\n",
      "Epoch 9/20\n",
      "16/16 [==============================] - 0s 17ms/step - loss: 0.2959 - accuracy: 0.9372 - val_loss: 0.8861 - val_accuracy: 0.8180\n",
      "Epoch 10/20\n",
      "16/16 [==============================] - 0s 17ms/step - loss: 0.2501 - accuracy: 0.9448 - val_loss: 0.8943 - val_accuracy: 0.8140\n",
      "Epoch 11/20\n",
      "16/16 [==============================] - 0s 16ms/step - loss: 0.2140 - accuracy: 0.9486 - val_loss: 0.8834 - val_accuracy: 0.8290\n",
      "Epoch 12/20\n",
      "16/16 [==============================] - 0s 17ms/step - loss: 0.1905 - accuracy: 0.9510 - val_loss: 0.9798 - val_accuracy: 0.8020\n",
      "Epoch 13/20\n",
      "16/16 [==============================] - 0s 17ms/step - loss: 0.1666 - accuracy: 0.9530 - val_loss: 0.9685 - val_accuracy: 0.8070\n",
      "Epoch 14/20\n",
      "16/16 [==============================] - 0s 16ms/step - loss: 0.1548 - accuracy: 0.9562 - val_loss: 0.9608 - val_accuracy: 0.8090\n",
      "Epoch 15/20\n",
      "16/16 [==============================] - 0s 16ms/step - loss: 0.1410 - accuracy: 0.9569 - val_loss: 1.0000 - val_accuracy: 0.8110\n",
      "Epoch 16/20\n",
      "16/16 [==============================] - 0s 18ms/step - loss: 0.1358 - accuracy: 0.9568 - val_loss: 0.9867 - val_accuracy: 0.8120\n",
      "Epoch 17/20\n",
      "16/16 [==============================] - 0s 17ms/step - loss: 0.1236 - accuracy: 0.9578 - val_loss: 0.9965 - val_accuracy: 0.8080\n",
      "Epoch 18/20\n",
      "16/16 [==============================] - 0s 16ms/step - loss: 0.1230 - accuracy: 0.9550 - val_loss: 1.0136 - val_accuracy: 0.8100\n",
      "Epoch 19/20\n",
      "16/16 [==============================] - 0s 18ms/step - loss: 0.1161 - accuracy: 0.9565 - val_loss: 1.0514 - val_accuracy: 0.8140\n",
      "Epoch 20/20\n",
      "16/16 [==============================] - 0s 18ms/step - loss: 0.1122 - accuracy: 0.9582 - val_loss: 1.1153 - val_accuracy: 0.8020\n"
     ]
    }
   ],
   "source": [
    "history = model.fit(partial_x_train,\n",
    "                    partial_y_train,\n",
    "                    epochs=20,\n",
    "                    batch_size=512,\n",
    "                    validation_data=(x_val, y_val))"
   ]
  },
  {
   "cell_type": "code",
   "execution_count": 12,
   "id": "86641cc0",
   "metadata": {},
   "outputs": [
    {
     "data": {
      "image/png": "[encoded data removed]",
      "text/plain": [
       "<Figure size 432x288 with 1 Axes>"
      ]
     },
     "metadata": {
      "needs_background": "light"
     },
     "output_type": "display_data"
    }
   ],
   "source": [
    "import matplotlib.pyplot as plt\n",
    "\n",
    "loss = history.history['loss']\n",
    "val_loss = history.history['val_loss']\n",
    "\n",
    "epochs = range(1, len(loss) + 1)\n",
    "\n",
    "plt.plot(epochs, loss, 'bo', label='Training loss')\n",
    "plt.plot(epochs, val_loss, 'b', label='Validation loss')\n",
    "plt.title('Training and validation loss')\n",
    "plt.xlabel('Epochs')\n",
    "plt.ylabel('Loss')\n",
    "plt.legend()\n",
    "\n",
    "plt.show()"
   ]
  },
  {
   "cell_type": "code",
   "execution_count": 13,
   "id": "52192c50",
   "metadata": {},
   "outputs": [
    {
     "data": {
      "image/png": "[encoded data removed]",
      "text/plain": [
       "<Figure size 432x288 with 1 Axes>"
      ]
     },
     "metadata": {
      "needs_background": "light"
     },
     "output_type": "display_data"
    }
   ],
   "source": [
    "plt.clf()\n",
    "\n",
    "acc = history.history['accuracy']\n",
    "val_acc = history.history['val_accuracy']\n",
    "\n",
    "plt.plot(epochs, acc, 'bo', label='Training acc')\n",
    "plt.plot(epochs, val_acc, 'b', label='Validation acc')\n",
    "plt.title('Training and validation accuracy')\n",
    "plt.xlabel('Epochs')\n",
    "plt.ylabel('Loss')\n",
    "plt.legend()\n",
    "\n",
    "plt.show()"
   ]
  },
  {
   "cell_type": "code",
   "execution_count": 14,
   "id": "fb4f840b",
   "metadata": {},
   "outputs": [
    {
     "name": "stdout",
     "output_type": "stream",
     "text": [
      "Epoch 1/9\n",
      "16/16 [==============================] - 1s 25ms/step - loss: 2.6796 - accuracy: 0.5179 - val_loss: 1.7940 - val_accuracy: 0.6430\n",
      "Epoch 2/9\n",
      "16/16 [==============================] - 0s 17ms/step - loss: 1.4569 - accuracy: 0.7045 - val_loss: 1.3387 - val_accuracy: 0.7150\n",
      "Epoch 3/9\n",
      "16/16 [==============================] - 0s 17ms/step - loss: 1.0809 - accuracy: 0.7661 - val_loss: 1.1450 - val_accuracy: 0.7530\n",
      "Epoch 4/9\n",
      "16/16 [==============================] - 0s 17ms/step - loss: 0.8451 - accuracy: 0.8210 - val_loss: 1.0314 - val_accuracy: 0.7800\n",
      "Epoch 5/9\n",
      "16/16 [==============================] - 0s 17ms/step - loss: 0.6637 - accuracy: 0.8613 - val_loss: 0.9660 - val_accuracy: 0.7910\n",
      "Epoch 6/9\n",
      "16/16 [==============================] - 0s 17ms/step - loss: 0.5319 - accuracy: 0.8889 - val_loss: 0.9064 - val_accuracy: 0.8120\n",
      "Epoch 7/9\n",
      "16/16 [==============================] - 0s 17ms/step - loss: 0.4284 - accuracy: 0.9100 - val_loss: 0.8793 - val_accuracy: 0.8190\n",
      "Epoch 8/9\n",
      "16/16 [==============================] - 0s 18ms/step - loss: 0.3473 - accuracy: 0.9266 - val_loss: 0.8723 - val_accuracy: 0.8210\n",
      "Epoch 9/9\n",
      "16/16 [==============================] - 0s 18ms/step - loss: 0.2885 - accuracy: 0.9359 - val_loss: 0.8802 - val_accuracy: 0.8160\n",
      "71/71 [==============================] - 0s 2ms/step - loss: 0.9893 - accuracy: 0.7872\n"
     ]
    }
   ],
   "source": [
    "\n",
    "model = models.Sequential()\n",
    "model.add(layers.Dense(64, activation='relu', input_shape=(10000,)))\n",
    "model.add(layers.Dense(64, activation='relu'))\n",
    "model.add(layers.Dense(46, activation='softmax'))\n",
    "\n",
    "model.compile(optimizer='rmsprop',\n",
    "              loss='categorical_crossentropy',\n",
    "              metrics=['accuracy'])\n",
    "model.fit(partial_x_train,\n",
    "          partial_y_train,\n",
    "          epochs=9,\n",
    "          batch_size=512,\n",
    "          validation_data=(x_val, y_val))\n",
    "results = model.evaluate(x_test, one_hot_test_labels)"
   ]
  },
  {
   "cell_type": "code",
   "execution_count": 15,
   "id": "82530605",
   "metadata": {},
   "outputs": [
    {
     "data": {
      "text/plain": [
       "[0.9892918467521667, 0.7871772050857544]"
      ]
     },
     "execution_count": 15,
     "metadata": {},
     "output_type": "execute_result"
    }
   ],
   "source": [
    "results"
   ]
  },
  {
   "cell_type": "code",
   "execution_count": 16,
   "id": "a8c8e054",
   "metadata": {},
   "outputs": [],
   "source": [
    "predictions = model.predict(x_test)"
   ]
  },
  {
   "cell_type": "code",
   "execution_count": 17,
   "id": "ba68e182",
   "metadata": {},
   "outputs": [],
   "source": [
    "predictions = model.predict(x_test)"
   ]
  },
  {
   "cell_type": "code",
   "execution_count": 18,
   "id": "f9e4b8f7",
   "metadata": {},
   "outputs": [
    {
     "data": {
      "text/plain": [
       "(46,)"
      ]
     },
     "execution_count": 18,
     "metadata": {},
     "output_type": "execute_result"
    }
   ],
   "source": [
    "predictions[0].shape"
   ]
  },
  {
   "cell_type": "code",
   "execution_count": 19,
   "id": "4e74c7ff",
   "metadata": {},
   "outputs": [
    {
     "data": {
      "text/plain": [
       "0.99999994"
      ]
     },
     "execution_count": 19,
     "metadata": {},
     "output_type": "execute_result"
    }
   ],
   "source": [
    "np.sum(predictions[0])"
   ]
  },
  {
   "cell_type": "code",
   "execution_count": 20,
   "id": "4abdad4a",
   "metadata": {},
   "outputs": [
    {
     "data": {
      "text/plain": [
       "3"
      ]
     },
     "execution_count": 20,
     "metadata": {},
     "output_type": "execute_result"
    }
   ],
   "source": [
    "np.argmax(predictions[0])"
   ]
  },
  {
   "cell_type": "code",
   "execution_count": 21,
   "id": "860e0b33",
   "metadata": {},
   "outputs": [],
   "source": [
    "y_train = np.array(train_labels)\n",
    "y_test = np.array(test_labels)"
   ]
  },
  {
   "cell_type": "code",
   "execution_count": 22,
   "id": "07d9eca2",
   "metadata": {},
   "outputs": [],
   "source": [
    "model.compile(optimizer='rmsprop',\n",
    "              loss='sparse_categorical_crossentropy',\n",
    "              metrics=['acc'])"
   ]
  },
  {
   "cell_type": "code",
   "execution_count": 25,
   "id": "3bbadf7b",
   "metadata": {},
   "outputs": [
    {
     "name": "stdout",
     "output_type": "stream",
     "text": [
      "Epoch 1/100\n",
      "250/250 [==============================] - 2s 6ms/step - loss: 1.9840 - accuracy: 0.5406 - val_loss: 1.5267 - val_accuracy: 0.6240\n",
      "Epoch 2/100\n",
      "250/250 [==============================] - 1s 5ms/step - loss: 1.3293 - accuracy: 0.6594 - val_loss: 1.3745 - val_accuracy: 0.6490\n",
      "Epoch 3/100\n",
      "250/250 [==============================] - 1s 5ms/step - loss: 1.1362 - accuracy: 0.6908 - val_loss: 1.3454 - val_accuracy: 0.6570\n",
      "Epoch 4/100\n",
      "250/250 [==============================] - 1s 6ms/step - loss: 1.0071 - accuracy: 0.7234 - val_loss: 1.3538 - val_accuracy: 0.6900\n",
      "Epoch 5/100\n",
      "250/250 [==============================] - 2s 6ms/step - loss: 0.9008 - accuracy: 0.7751 - val_loss: 1.4225 - val_accuracy: 0.7130\n",
      "Epoch 6/100\n",
      "250/250 [==============================] - 1s 6ms/step - loss: 0.8175 - accuracy: 0.8017 - val_loss: 1.4373 - val_accuracy: 0.7080\n",
      "Epoch 7/100\n",
      "250/250 [==============================] - 1s 6ms/step - loss: 0.7509 - accuracy: 0.8109 - val_loss: 1.5469 - val_accuracy: 0.7110\n",
      "Epoch 8/100\n",
      "250/250 [==============================] - 1s 6ms/step - loss: 0.7019 - accuracy: 0.8193 - val_loss: 1.6081 - val_accuracy: 0.7100\n",
      "Epoch 9/100\n",
      "250/250 [==============================] - 1s 6ms/step - loss: 0.6594 - accuracy: 0.8276 - val_loss: 1.7521 - val_accuracy: 0.7120\n",
      "Epoch 10/100\n",
      "250/250 [==============================] - 1s 6ms/step - loss: 0.6255 - accuracy: 0.8399 - val_loss: 1.8142 - val_accuracy: 0.7160\n",
      "Epoch 11/100\n",
      "250/250 [==============================] - 1s 6ms/step - loss: 0.5978 - accuracy: 0.8470 - val_loss: 1.9299 - val_accuracy: 0.7050\n",
      "Epoch 12/100\n",
      "250/250 [==============================] - 1s 6ms/step - loss: 0.5736 - accuracy: 0.8499 - val_loss: 2.0708 - val_accuracy: 0.7120\n",
      "Epoch 13/100\n",
      "250/250 [==============================] - 1s 6ms/step - loss: 0.5554 - accuracy: 0.8534 - val_loss: 2.1872 - val_accuracy: 0.7060\n",
      "Epoch 14/100\n",
      "250/250 [==============================] - 1s 6ms/step - loss: 0.5385 - accuracy: 0.8572 - val_loss: 2.2185 - val_accuracy: 0.7090\n",
      "Epoch 15/100\n",
      "250/250 [==============================] - 1s 6ms/step - loss: 0.5232 - accuracy: 0.8586 - val_loss: 2.4203 - val_accuracy: 0.7000\n",
      "Epoch 16/100\n",
      "250/250 [==============================] - 2s 6ms/step - loss: 0.5130 - accuracy: 0.8606 - val_loss: 2.4580 - val_accuracy: 0.7050\n",
      "Epoch 17/100\n",
      "250/250 [==============================] - 2s 6ms/step - loss: 0.4992 - accuracy: 0.8631 - val_loss: 2.6127 - val_accuracy: 0.6990\n",
      "Epoch 18/100\n",
      "250/250 [==============================] - 2s 6ms/step - loss: 0.4891 - accuracy: 0.8653 - val_loss: 2.7360 - val_accuracy: 0.6980\n",
      "Epoch 19/100\n",
      "250/250 [==============================] - 1s 6ms/step - loss: 0.4855 - accuracy: 0.8703 - val_loss: 2.7889 - val_accuracy: 0.7000\n",
      "Epoch 20/100\n",
      "250/250 [==============================] - 2s 6ms/step - loss: 0.4717 - accuracy: 0.8701 - val_loss: 2.9239 - val_accuracy: 0.6950\n",
      "Epoch 21/100\n",
      "250/250 [==============================] - 2s 6ms/step - loss: 0.4695 - accuracy: 0.8720 - val_loss: 2.9669 - val_accuracy: 0.6920\n",
      "Epoch 22/100\n",
      "250/250 [==============================] - 2s 7ms/step - loss: 0.4582 - accuracy: 0.8740 - val_loss: 3.2429 - val_accuracy: 0.6790\n",
      "Epoch 23/100\n",
      "250/250 [==============================] - 2s 7ms/step - loss: 0.4540 - accuracy: 0.8747 - val_loss: 3.1654 - val_accuracy: 0.6850\n",
      "Epoch 24/100\n",
      "250/250 [==============================] - 2s 6ms/step - loss: 0.4480 - accuracy: 0.8765 - val_loss: 3.4198 - val_accuracy: 0.6810\n",
      "Epoch 25/100\n",
      "250/250 [==============================] - 1s 6ms/step - loss: 0.4447 - accuracy: 0.8795 - val_loss: 3.4793 - val_accuracy: 0.6780\n",
      "Epoch 26/100\n",
      "250/250 [==============================] - 1s 6ms/step - loss: 0.4350 - accuracy: 0.8790 - val_loss: 3.6809 - val_accuracy: 0.6760\n",
      "Epoch 27/100\n",
      "250/250 [==============================] - 2s 6ms/step - loss: 0.4362 - accuracy: 0.8800 - val_loss: 3.6127 - val_accuracy: 0.6610\n",
      "Epoch 28/100\n",
      "250/250 [==============================] - 1s 6ms/step - loss: 0.4293 - accuracy: 0.8810 - val_loss: 3.9198 - val_accuracy: 0.6740\n",
      "Epoch 29/100\n",
      "250/250 [==============================] - 1s 6ms/step - loss: 0.4265 - accuracy: 0.8834 - val_loss: 3.8519 - val_accuracy: 0.6720\n",
      "Epoch 30/100\n",
      "250/250 [==============================] - 2s 6ms/step - loss: 0.4254 - accuracy: 0.8879 - val_loss: 4.0284 - val_accuracy: 0.6730\n",
      "Epoch 31/100\n",
      "250/250 [==============================] - 2s 6ms/step - loss: 0.4203 - accuracy: 0.8839 - val_loss: 4.0500 - val_accuracy: 0.6660\n",
      "Epoch 32/100\n",
      "250/250 [==============================] - 2s 6ms/step - loss: 0.4185 - accuracy: 0.8841 - val_loss: 4.1411 - val_accuracy: 0.6650\n",
      "Epoch 33/100\n",
      "250/250 [==============================] - 1s 6ms/step - loss: 0.4192 - accuracy: 0.8864 - val_loss: 4.3099 - val_accuracy: 0.6670\n",
      "Epoch 34/100\n",
      "250/250 [==============================] - 1s 6ms/step - loss: 0.4161 - accuracy: 0.8869 - val_loss: 4.4345 - val_accuracy: 0.6710\n",
      "Epoch 35/100\n",
      "250/250 [==============================] - 1s 6ms/step - loss: 0.4090 - accuracy: 0.8891 - val_loss: 4.4869 - val_accuracy: 0.6690\n",
      "Epoch 36/100\n",
      "250/250 [==============================] - 1s 6ms/step - loss: 0.4091 - accuracy: 0.8867 - val_loss: 4.7261 - val_accuracy: 0.6780\n",
      "Epoch 37/100\n",
      "250/250 [==============================] - 2s 6ms/step - loss: 0.4093 - accuracy: 0.8879 - val_loss: 4.6001 - val_accuracy: 0.6730\n",
      "Epoch 38/100\n",
      "250/250 [==============================] - 2s 6ms/step - loss: 0.4062 - accuracy: 0.8865 - val_loss: 4.9332 - val_accuracy: 0.6690\n",
      "Epoch 39/100\n",
      "250/250 [==============================] - 2s 6ms/step - loss: 0.3994 - accuracy: 0.8889 - val_loss: 5.1411 - val_accuracy: 0.6780\n",
      "Epoch 40/100\n",
      "250/250 [==============================] - 2s 6ms/step - loss: 0.3983 - accuracy: 0.8886 - val_loss: 5.2088 - val_accuracy: 0.6730\n",
      "Epoch 41/100\n",
      "250/250 [==============================] - 2s 6ms/step - loss: 0.3987 - accuracy: 0.8884 - val_loss: 5.0975 - val_accuracy: 0.6690\n",
      "Epoch 42/100\n",
      "250/250 [==============================] - 2s 6ms/step - loss: 0.3933 - accuracy: 0.8894 - val_loss: 5.4058 - val_accuracy: 0.6750\n",
      "Epoch 43/100\n",
      "250/250 [==============================] - 1s 6ms/step - loss: 0.3946 - accuracy: 0.8909 - val_loss: 5.7202 - val_accuracy: 0.6780\n",
      "Epoch 44/100\n",
      "250/250 [==============================] - 2s 6ms/step - loss: 0.3890 - accuracy: 0.8915 - val_loss: 5.5763 - val_accuracy: 0.6580\n",
      "Epoch 45/100\n",
      "250/250 [==============================] - 2s 6ms/step - loss: 0.3883 - accuracy: 0.8924 - val_loss: 5.6382 - val_accuracy: 0.6780\n",
      "Epoch 46/100\n",
      "250/250 [==============================] - 2s 7ms/step - loss: 0.3915 - accuracy: 0.8918 - val_loss: 5.9030 - val_accuracy: 0.6710\n",
      "Epoch 47/100\n",
      "250/250 [==============================] - 2s 7ms/step - loss: 0.3873 - accuracy: 0.8918 - val_loss: 6.1644 - val_accuracy: 0.6740\n",
      "Epoch 48/100\n",
      "250/250 [==============================] - 2s 6ms/step - loss: 0.3819 - accuracy: 0.8939 - val_loss: 5.9990 - val_accuracy: 0.6630\n",
      "Epoch 49/100\n",
      "250/250 [==============================] - 2s 6ms/step - loss: 0.3777 - accuracy: 0.8963 - val_loss: 6.3998 - val_accuracy: 0.6620\n",
      "Epoch 50/100\n",
      "250/250 [==============================] - 2s 6ms/step - loss: 0.3926 - accuracy: 0.8926 - val_loss: 6.2252 - val_accuracy: 0.6780\n",
      "Epoch 51/100\n",
      "250/250 [==============================] - 2s 6ms/step - loss: 0.3810 - accuracy: 0.8936 - val_loss: 6.2699 - val_accuracy: 0.6720\n",
      "Epoch 52/100\n",
      "250/250 [==============================] - 2s 6ms/step - loss: 0.3823 - accuracy: 0.8933 - val_loss: 6.3709 - val_accuracy: 0.6600\n",
      "Epoch 53/100\n",
      "250/250 [==============================] - 2s 6ms/step - loss: 0.3751 - accuracy: 0.8943 - val_loss: 6.7797 - val_accuracy: 0.6570\n",
      "Epoch 54/100\n",
      "250/250 [==============================] - 2s 6ms/step - loss: 0.3767 - accuracy: 0.8948 - val_loss: 6.6378 - val_accuracy: 0.6610\n",
      "Epoch 55/100\n",
      "250/250 [==============================] - 2s 6ms/step - loss: 0.3725 - accuracy: 0.8931 - val_loss: 7.2360 - val_accuracy: 0.6580\n",
      "Epoch 56/100\n",
      "250/250 [==============================] - 2s 6ms/step - loss: 0.3792 - accuracy: 0.8924 - val_loss: 6.9028 - val_accuracy: 0.6680\n",
      "Epoch 57/100\n",
      "250/250 [==============================] - 2s 6ms/step - loss: 0.3783 - accuracy: 0.8948 - val_loss: 7.1363 - val_accuracy: 0.6590\n"
     ]
    },
    {
     "name": "stdout",
     "output_type": "stream",
     "text": [
      "Epoch 58/100\n",
      "250/250 [==============================] - 2s 6ms/step - loss: 0.3746 - accuracy: 0.8946 - val_loss: 7.1768 - val_accuracy: 0.6620\n",
      "Epoch 59/100\n",
      "250/250 [==============================] - 1s 6ms/step - loss: 0.3707 - accuracy: 0.8941 - val_loss: 7.2935 - val_accuracy: 0.6510\n",
      "Epoch 60/100\n",
      "250/250 [==============================] - 1s 6ms/step - loss: 0.3686 - accuracy: 0.8948 - val_loss: 7.4774 - val_accuracy: 0.6610\n",
      "Epoch 61/100\n",
      "250/250 [==============================] - 1s 6ms/step - loss: 0.3706 - accuracy: 0.8943 - val_loss: 8.1381 - val_accuracy: 0.6590\n",
      "Epoch 62/100\n",
      "250/250 [==============================] - 2s 6ms/step - loss: 0.3747 - accuracy: 0.8945 - val_loss: 7.4917 - val_accuracy: 0.6510\n",
      "Epoch 63/100\n",
      "250/250 [==============================] - 1s 6ms/step - loss: 0.3670 - accuracy: 0.8945 - val_loss: 7.9591 - val_accuracy: 0.6660\n",
      "Epoch 64/100\n",
      "250/250 [==============================] - 1s 6ms/step - loss: 0.3704 - accuracy: 0.8943 - val_loss: 7.7905 - val_accuracy: 0.6680\n",
      "Epoch 65/100\n",
      "250/250 [==============================] - 1s 6ms/step - loss: 0.3675 - accuracy: 0.8955 - val_loss: 8.1138 - val_accuracy: 0.6560\n",
      "Epoch 66/100\n",
      "250/250 [==============================] - 1s 6ms/step - loss: 0.3689 - accuracy: 0.8960 - val_loss: 7.9788 - val_accuracy: 0.6490\n",
      "Epoch 67/100\n",
      "250/250 [==============================] - 1s 6ms/step - loss: 0.3669 - accuracy: 0.8950 - val_loss: 8.2593 - val_accuracy: 0.6560\n",
      "Epoch 68/100\n",
      "250/250 [==============================] - 2s 6ms/step - loss: 0.3739 - accuracy: 0.8966 - val_loss: 8.6098 - val_accuracy: 0.6580\n",
      "Epoch 69/100\n",
      "250/250 [==============================] - 2s 6ms/step - loss: 0.3695 - accuracy: 0.8946 - val_loss: 8.4518 - val_accuracy: 0.6490\n",
      "Epoch 70/100\n",
      "250/250 [==============================] - 1s 6ms/step - loss: 0.3602 - accuracy: 0.8959 - val_loss: 8.3605 - val_accuracy: 0.6600\n",
      "Epoch 71/100\n",
      "250/250 [==============================] - 1s 6ms/step - loss: 0.3644 - accuracy: 0.8966 - val_loss: 8.7841 - val_accuracy: 0.6570\n",
      "Epoch 72/100\n",
      "250/250 [==============================] - 1s 6ms/step - loss: 0.3609 - accuracy: 0.8958 - val_loss: 9.0222 - val_accuracy: 0.6520\n",
      "Epoch 73/100\n",
      "250/250 [==============================] - 2s 6ms/step - loss: 0.3607 - accuracy: 0.8924 - val_loss: 8.8661 - val_accuracy: 0.6690\n",
      "Epoch 74/100\n",
      "250/250 [==============================] - 1s 6ms/step - loss: 0.3617 - accuracy: 0.8966 - val_loss: 9.1011 - val_accuracy: 0.6590\n",
      "Epoch 75/100\n",
      "250/250 [==============================] - 1s 6ms/step - loss: 0.3591 - accuracy: 0.8958 - val_loss: 9.1536 - val_accuracy: 0.6550\n",
      "Epoch 76/100\n",
      "250/250 [==============================] - 2s 6ms/step - loss: 0.3585 - accuracy: 0.8973 - val_loss: 10.0835 - val_accuracy: 0.6610\n",
      "Epoch 77/100\n",
      "250/250 [==============================] - 1s 6ms/step - loss: 0.3613 - accuracy: 0.8954 - val_loss: 9.4254 - val_accuracy: 0.6430\n",
      "Epoch 78/100\n",
      "250/250 [==============================] - 2s 6ms/step - loss: 0.3700 - accuracy: 0.8945 - val_loss: 9.9103 - val_accuracy: 0.6490\n",
      "Epoch 79/100\n",
      "250/250 [==============================] - 2s 6ms/step - loss: 0.3620 - accuracy: 0.8968 - val_loss: 9.6133 - val_accuracy: 0.6480\n",
      "Epoch 80/100\n",
      "250/250 [==============================] - 2s 6ms/step - loss: 0.3556 - accuracy: 0.8976 - val_loss: 10.8125 - val_accuracy: 0.6550\n",
      "Epoch 81/100\n",
      "250/250 [==============================] - 1s 6ms/step - loss: 0.3639 - accuracy: 0.8959 - val_loss: 10.3655 - val_accuracy: 0.6640\n",
      "Epoch 82/100\n",
      "250/250 [==============================] - 1s 6ms/step - loss: 0.3568 - accuracy: 0.8955 - val_loss: 9.8446 - val_accuracy: 0.6390\n",
      "Epoch 83/100\n",
      "250/250 [==============================] - 2s 6ms/step - loss: 0.3574 - accuracy: 0.8966 - val_loss: 10.6193 - val_accuracy: 0.6560\n",
      "Epoch 84/100\n",
      "250/250 [==============================] - 2s 6ms/step - loss: 0.3616 - accuracy: 0.8955 - val_loss: 10.4326 - val_accuracy: 0.6310\n",
      "Epoch 85/100\n",
      "250/250 [==============================] - 2s 6ms/step - loss: 0.3613 - accuracy: 0.8968 - val_loss: 11.2486 - val_accuracy: 0.6540\n",
      "Epoch 86/100\n",
      "250/250 [==============================] - 2s 6ms/step - loss: 0.3599 - accuracy: 0.8960 - val_loss: 10.0324 - val_accuracy: 0.6320\n",
      "Epoch 87/100\n",
      "250/250 [==============================] - 2s 7ms/step - loss: 0.3636 - accuracy: 0.8960 - val_loss: 10.4959 - val_accuracy: 0.6550\n",
      "Epoch 88/100\n",
      "250/250 [==============================] - 2s 7ms/step - loss: 0.3584 - accuracy: 0.8973 - val_loss: 10.7898 - val_accuracy: 0.6430\n",
      "Epoch 89/100\n",
      "250/250 [==============================] - 2s 7ms/step - loss: 0.3661 - accuracy: 0.8950 - val_loss: 10.2734 - val_accuracy: 0.6200\n",
      "Epoch 90/100\n",
      "250/250 [==============================] - 2s 7ms/step - loss: 0.3651 - accuracy: 0.8939 - val_loss: 11.2542 - val_accuracy: 0.6500\n",
      "Epoch 91/100\n",
      "250/250 [==============================] - 2s 7ms/step - loss: 0.3583 - accuracy: 0.8959 - val_loss: 11.5116 - val_accuracy: 0.6540 0s - loss: 0\n",
      "Epoch 92/100\n",
      "250/250 [==============================] - 2s 7ms/step - loss: 0.3572 - accuracy: 0.8964 - val_loss: 11.3477 - val_accuracy: 0.6400\n",
      "Epoch 93/100\n",
      "250/250 [==============================] - 2s 7ms/step - loss: 0.3584 - accuracy: 0.8953 - val_loss: 11.1686 - val_accuracy: 0.6440\n",
      "Epoch 94/100\n",
      "250/250 [==============================] - 2s 6ms/step - loss: 0.3545 - accuracy: 0.8960 - val_loss: 12.0362 - val_accuracy: 0.6420\n",
      "Epoch 95/100\n",
      "250/250 [==============================] - 2s 7ms/step - loss: 0.3671 - accuracy: 0.8964 - val_loss: 11.1706 - val_accuracy: 0.6410\n",
      "Epoch 96/100\n",
      "250/250 [==============================] - 2s 6ms/step - loss: 0.3572 - accuracy: 0.8968 - val_loss: 11.7577 - val_accuracy: 0.6420\n",
      "Epoch 97/100\n",
      "250/250 [==============================] - 2s 7ms/step - loss: 0.3581 - accuracy: 0.8964 - val_loss: 11.6460 - val_accuracy: 0.6350\n",
      "Epoch 98/100\n",
      "250/250 [==============================] - 2s 7ms/step - loss: 0.3613 - accuracy: 0.8951 - val_loss: 11.6696 - val_accuracy: 0.6460\n",
      "Epoch 99/100\n",
      "250/250 [==============================] - 2s 7ms/step - loss: 0.3664 - accuracy: 0.8966 - val_loss: 11.6959 - val_accuracy: 0.6280\n",
      "Epoch 100/100\n",
      "250/250 [==============================] - 2s 7ms/step - loss: 0.3672 - accuracy: 0.8978 - val_loss: 11.8450 - val_accuracy: 0.6490\n"
     ]
    },
    {
     "data": {
      "text/plain": [
       "<keras.callbacks.History at 0x25f9198de50>"
      ]
     },
     "execution_count": 25,
     "metadata": {},
     "output_type": "execute_result"
    }
   ],
   "source": [
    "#Smaller Batch Size with More Epochs\n",
    "model = models.Sequential()\n",
    "model.add(layers.Dense(64, activation='relu', input_shape=(10000,)))\n",
    "model.add(layers.Dense(4, activation='relu'))\n",
    "model.add(layers.Dense(46, activation='softmax'))\n",
    "\n",
    "model.compile(optimizer='rmsprop',\n",
    "              loss='categorical_crossentropy',\n",
    "              metrics=['accuracy'])\n",
    "model.fit(partial_x_train,\n",
    "          partial_y_train,\n",
    "          epochs=100,\n",
    "          batch_size=32,\n",
    "          validation_data=(x_val, y_val))"
   ]
  },
  {
   "cell_type": "code",
   "execution_count": 24,
   "id": "ef054350",
   "metadata": {},
   "outputs": [
    {
     "name": "stdout",
     "output_type": "stream",
     "text": [
      "71/71 [==============================] - 0s 1ms/step - loss: 2.1223 - accuracy: 0.6692\n"
     ]
    }
   ],
   "source": [
    "results = model.evaluate(x_test, one_hot_test_labels)"
   ]
  },
  {
   "cell_type": "code",
   "execution_count": null,
   "id": "4429fc57",
   "metadata": {},
   "outputs": [],
   "source": []
  }
 ],
 "metadata": {
  "kernelspec": {
   "display_name": "Python 3 (ipykernel)",
   "language": "python",
   "name": "python3"
  },
  "language_info": {
   "codemirror_mode": {
    "name": "ipython",
    "version": 3
   },
   "file_extension": ".py",
   "mimetype": "text/x-python",
   "name": "python",
   "nbconvert_exporter": "python",
   "pygments_lexer": "ipython3",
   "version": "3.9.7"
  }
 },
 "nbformat": 4,
 "nbformat_minor": 5
}
